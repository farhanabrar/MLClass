{
  "nbformat": 4,
  "nbformat_minor": 0,
  "metadata": {
    "colab": {
      "name": "UAS_ML_cifar100_resnet.ipynb",
      "provenance": [],
      "authorship_tag": "ABX9TyOxWPu1eT4w64RKop0REtMF",
      "include_colab_link": true
    },
    "kernelspec": {
      "name": "python3",
      "display_name": "Python 3"
    },
    "language_info": {
      "name": "python"
    },
    "accelerator": "GPU",
    "gpuClass": "standard",
    "widgets": {
      "application/vnd.jupyter.widget-state+json": {
        "a3b682a728154cc5b7bff71bda41b3bf": {
          "model_module": "@jupyter-widgets/controls",
          "model_name": "HBoxModel",
          "model_module_version": "1.5.0",
          "state": {
            "_dom_classes": [],
            "_model_module": "@jupyter-widgets/controls",
            "_model_module_version": "1.5.0",
            "_model_name": "HBoxModel",
            "_view_count": null,
            "_view_module": "@jupyter-widgets/controls",
            "_view_module_version": "1.5.0",
            "_view_name": "HBoxView",
            "box_style": "",
            "children": [
              "IPY_MODEL_f1db3c77c1094d3aa266c726063afde7",
              "IPY_MODEL_8b3d4cf2cb7d462cbc538f00ff12bd45",
              "IPY_MODEL_9874b49512354eb2a2a0a4152d5e9e48"
            ],
            "layout": "IPY_MODEL_4667ab58d57047d9ab1442922ae488e4"
          }
        },
        "f1db3c77c1094d3aa266c726063afde7": {
          "model_module": "@jupyter-widgets/controls",
          "model_name": "HTMLModel",
          "model_module_version": "1.5.0",
          "state": {
            "_dom_classes": [],
            "_model_module": "@jupyter-widgets/controls",
            "_model_module_version": "1.5.0",
            "_model_name": "HTMLModel",
            "_view_count": null,
            "_view_module": "@jupyter-widgets/controls",
            "_view_module_version": "1.5.0",
            "_view_name": "HTMLView",
            "description": "",
            "description_tooltip": null,
            "layout": "IPY_MODEL_615170b433bb45a79077136a9d726679",
            "placeholder": "​",
            "style": "IPY_MODEL_0a43b82d01a04f6eb6d114d859217ba8",
            "value": ""
          }
        },
        "8b3d4cf2cb7d462cbc538f00ff12bd45": {
          "model_module": "@jupyter-widgets/controls",
          "model_name": "FloatProgressModel",
          "model_module_version": "1.5.0",
          "state": {
            "_dom_classes": [],
            "_model_module": "@jupyter-widgets/controls",
            "_model_module_version": "1.5.0",
            "_model_name": "FloatProgressModel",
            "_view_count": null,
            "_view_module": "@jupyter-widgets/controls",
            "_view_module_version": "1.5.0",
            "_view_name": "ProgressView",
            "bar_style": "success",
            "description": "",
            "description_tooltip": null,
            "layout": "IPY_MODEL_08f8be42bc094df8ac61d6f77ec1ae17",
            "max": 169001437,
            "min": 0,
            "orientation": "horizontal",
            "style": "IPY_MODEL_903ca0538888404ab6841cf79126db7f",
            "value": 169001437
          }
        },
        "9874b49512354eb2a2a0a4152d5e9e48": {
          "model_module": "@jupyter-widgets/controls",
          "model_name": "HTMLModel",
          "model_module_version": "1.5.0",
          "state": {
            "_dom_classes": [],
            "_model_module": "@jupyter-widgets/controls",
            "_model_module_version": "1.5.0",
            "_model_name": "HTMLModel",
            "_view_count": null,
            "_view_module": "@jupyter-widgets/controls",
            "_view_module_version": "1.5.0",
            "_view_name": "HTMLView",
            "description": "",
            "description_tooltip": null,
            "layout": "IPY_MODEL_99f41fb900d24de9a1e3ea729d706de2",
            "placeholder": "​",
            "style": "IPY_MODEL_db36c979fba845d88f0830eefdd2e78b",
            "value": " 169001984/? [00:12&lt;00:00, 16687535.28it/s]"
          }
        },
        "4667ab58d57047d9ab1442922ae488e4": {
          "model_module": "@jupyter-widgets/base",
          "model_name": "LayoutModel",
          "model_module_version": "1.2.0",
          "state": {
            "_model_module": "@jupyter-widgets/base",
            "_model_module_version": "1.2.0",
            "_model_name": "LayoutModel",
            "_view_count": null,
            "_view_module": "@jupyter-widgets/base",
            "_view_module_version": "1.2.0",
            "_view_name": "LayoutView",
            "align_content": null,
            "align_items": null,
            "align_self": null,
            "border": null,
            "bottom": null,
            "display": null,
            "flex": null,
            "flex_flow": null,
            "grid_area": null,
            "grid_auto_columns": null,
            "grid_auto_flow": null,
            "grid_auto_rows": null,
            "grid_column": null,
            "grid_gap": null,
            "grid_row": null,
            "grid_template_areas": null,
            "grid_template_columns": null,
            "grid_template_rows": null,
            "height": null,
            "justify_content": null,
            "justify_items": null,
            "left": null,
            "margin": null,
            "max_height": null,
            "max_width": null,
            "min_height": null,
            "min_width": null,
            "object_fit": null,
            "object_position": null,
            "order": null,
            "overflow": null,
            "overflow_x": null,
            "overflow_y": null,
            "padding": null,
            "right": null,
            "top": null,
            "visibility": null,
            "width": null
          }
        },
        "615170b433bb45a79077136a9d726679": {
          "model_module": "@jupyter-widgets/base",
          "model_name": "LayoutModel",
          "model_module_version": "1.2.0",
          "state": {
            "_model_module": "@jupyter-widgets/base",
            "_model_module_version": "1.2.0",
            "_model_name": "LayoutModel",
            "_view_count": null,
            "_view_module": "@jupyter-widgets/base",
            "_view_module_version": "1.2.0",
            "_view_name": "LayoutView",
            "align_content": null,
            "align_items": null,
            "align_self": null,
            "border": null,
            "bottom": null,
            "display": null,
            "flex": null,
            "flex_flow": null,
            "grid_area": null,
            "grid_auto_columns": null,
            "grid_auto_flow": null,
            "grid_auto_rows": null,
            "grid_column": null,
            "grid_gap": null,
            "grid_row": null,
            "grid_template_areas": null,
            "grid_template_columns": null,
            "grid_template_rows": null,
            "height": null,
            "justify_content": null,
            "justify_items": null,
            "left": null,
            "margin": null,
            "max_height": null,
            "max_width": null,
            "min_height": null,
            "min_width": null,
            "object_fit": null,
            "object_position": null,
            "order": null,
            "overflow": null,
            "overflow_x": null,
            "overflow_y": null,
            "padding": null,
            "right": null,
            "top": null,
            "visibility": null,
            "width": null
          }
        },
        "0a43b82d01a04f6eb6d114d859217ba8": {
          "model_module": "@jupyter-widgets/controls",
          "model_name": "DescriptionStyleModel",
          "model_module_version": "1.5.0",
          "state": {
            "_model_module": "@jupyter-widgets/controls",
            "_model_module_version": "1.5.0",
            "_model_name": "DescriptionStyleModel",
            "_view_count": null,
            "_view_module": "@jupyter-widgets/base",
            "_view_module_version": "1.2.0",
            "_view_name": "StyleView",
            "description_width": ""
          }
        },
        "08f8be42bc094df8ac61d6f77ec1ae17": {
          "model_module": "@jupyter-widgets/base",
          "model_name": "LayoutModel",
          "model_module_version": "1.2.0",
          "state": {
            "_model_module": "@jupyter-widgets/base",
            "_model_module_version": "1.2.0",
            "_model_name": "LayoutModel",
            "_view_count": null,
            "_view_module": "@jupyter-widgets/base",
            "_view_module_version": "1.2.0",
            "_view_name": "LayoutView",
            "align_content": null,
            "align_items": null,
            "align_self": null,
            "border": null,
            "bottom": null,
            "display": null,
            "flex": null,
            "flex_flow": null,
            "grid_area": null,
            "grid_auto_columns": null,
            "grid_auto_flow": null,
            "grid_auto_rows": null,
            "grid_column": null,
            "grid_gap": null,
            "grid_row": null,
            "grid_template_areas": null,
            "grid_template_columns": null,
            "grid_template_rows": null,
            "height": null,
            "justify_content": null,
            "justify_items": null,
            "left": null,
            "margin": null,
            "max_height": null,
            "max_width": null,
            "min_height": null,
            "min_width": null,
            "object_fit": null,
            "object_position": null,
            "order": null,
            "overflow": null,
            "overflow_x": null,
            "overflow_y": null,
            "padding": null,
            "right": null,
            "top": null,
            "visibility": null,
            "width": null
          }
        },
        "903ca0538888404ab6841cf79126db7f": {
          "model_module": "@jupyter-widgets/controls",
          "model_name": "ProgressStyleModel",
          "model_module_version": "1.5.0",
          "state": {
            "_model_module": "@jupyter-widgets/controls",
            "_model_module_version": "1.5.0",
            "_model_name": "ProgressStyleModel",
            "_view_count": null,
            "_view_module": "@jupyter-widgets/base",
            "_view_module_version": "1.2.0",
            "_view_name": "StyleView",
            "bar_color": null,
            "description_width": ""
          }
        },
        "99f41fb900d24de9a1e3ea729d706de2": {
          "model_module": "@jupyter-widgets/base",
          "model_name": "LayoutModel",
          "model_module_version": "1.2.0",
          "state": {
            "_model_module": "@jupyter-widgets/base",
            "_model_module_version": "1.2.0",
            "_model_name": "LayoutModel",
            "_view_count": null,
            "_view_module": "@jupyter-widgets/base",
            "_view_module_version": "1.2.0",
            "_view_name": "LayoutView",
            "align_content": null,
            "align_items": null,
            "align_self": null,
            "border": null,
            "bottom": null,
            "display": null,
            "flex": null,
            "flex_flow": null,
            "grid_area": null,
            "grid_auto_columns": null,
            "grid_auto_flow": null,
            "grid_auto_rows": null,
            "grid_column": null,
            "grid_gap": null,
            "grid_row": null,
            "grid_template_areas": null,
            "grid_template_columns": null,
            "grid_template_rows": null,
            "height": null,
            "justify_content": null,
            "justify_items": null,
            "left": null,
            "margin": null,
            "max_height": null,
            "max_width": null,
            "min_height": null,
            "min_width": null,
            "object_fit": null,
            "object_position": null,
            "order": null,
            "overflow": null,
            "overflow_x": null,
            "overflow_y": null,
            "padding": null,
            "right": null,
            "top": null,
            "visibility": null,
            "width": null
          }
        },
        "db36c979fba845d88f0830eefdd2e78b": {
          "model_module": "@jupyter-widgets/controls",
          "model_name": "DescriptionStyleModel",
          "model_module_version": "1.5.0",
          "state": {
            "_model_module": "@jupyter-widgets/controls",
            "_model_module_version": "1.5.0",
            "_model_name": "DescriptionStyleModel",
            "_view_count": null,
            "_view_module": "@jupyter-widgets/base",
            "_view_module_version": "1.2.0",
            "_view_name": "StyleView",
            "description_width": ""
          }
        }
      }
    }
  },
  "cells": [
    {
      "cell_type": "markdown",
      "metadata": {
        "id": "view-in-github",
        "colab_type": "text"
      },
      "source": [
        "<a href=\"https://colab.research.google.com/github/farhanabrar/MLClass/blob/main/UAS/UAS_ML_cifar100_resnet.ipynb\" target=\"_parent\"><img src=\"https://colab.research.google.com/assets/colab-badge.svg\" alt=\"Open In Colab\"/></a>"
      ]
    },
    {
      "cell_type": "code",
      "execution_count": 1,
      "metadata": {
        "id": "MGJF3bSG6mWM"
      },
      "outputs": [],
      "source": [
        "import numpy as np\n",
        "import matplotlib.pyplot as plt\n",
        "import pandas as pd\n",
        "\n",
        "import torch\n",
        "import torchvision\n",
        "import torch.nn as nn\n",
        "import torch.nn.functional as F\n",
        "from torchvision.datasets import CIFAR100\n",
        "from torchvision.utils import make_grid\n",
        "from torch.utils.data.dataloader import DataLoader\n",
        "from torch.utils.data import random_split, ConcatDataset\n",
        "import torchvision.transforms as tt"
      ]
    },
    {
      "cell_type": "code",
      "source": [
        "stats = ((0.5074,0.4867,0.4411),(0.2011,0.1987,0.2025))\n",
        "train_transform = tt.Compose([\n",
        "    tt.RandomHorizontalFlip(),\n",
        "    tt.RandomCrop(32, padding=4, padding_mode=\"reflect\"),\n",
        "    tt.ToTensor(),\n",
        "    tt.Normalize(*stats)\n",
        "])\n",
        "\n",
        "test_transform = tt.Compose([\n",
        "    tt.ToTensor(),\n",
        "    tt.Normalize(*stats)\n",
        "])"
      ],
      "metadata": {
        "id": "HYZjRSR5602c"
      },
      "execution_count": 2,
      "outputs": []
    },
    {
      "cell_type": "code",
      "source": [
        "train_data = CIFAR100(download=True, root=\"/content\", transform=train_transform)\n",
        "test_data = CIFAR100(root=\"/content\", train=False, transform=test_transform)\n"
      ],
      "metadata": {
        "colab": {
          "base_uri": "https://localhost:8080/",
          "height": 85,
          "referenced_widgets": [
            "a3b682a728154cc5b7bff71bda41b3bf",
            "f1db3c77c1094d3aa266c726063afde7",
            "8b3d4cf2cb7d462cbc538f00ff12bd45",
            "9874b49512354eb2a2a0a4152d5e9e48",
            "4667ab58d57047d9ab1442922ae488e4",
            "615170b433bb45a79077136a9d726679",
            "0a43b82d01a04f6eb6d114d859217ba8",
            "08f8be42bc094df8ac61d6f77ec1ae17",
            "903ca0538888404ab6841cf79126db7f",
            "99f41fb900d24de9a1e3ea729d706de2",
            "db36c979fba845d88f0830eefdd2e78b"
          ]
        },
        "id": "E2OlelSl66Ul",
        "outputId": "cc8d8cf9-3af8-444c-9209-e9da2107b4a0"
      },
      "execution_count": 3,
      "outputs": [
        {
          "output_type": "stream",
          "name": "stdout",
          "text": [
            "Downloading https://www.cs.toronto.edu/~kriz/cifar-100-python.tar.gz to /content/cifar-100-python.tar.gz\n"
          ]
        },
        {
          "output_type": "display_data",
          "data": {
            "text/plain": [
              "  0%|          | 0/169001437 [00:00<?, ?it/s]"
            ],
            "application/vnd.jupyter.widget-view+json": {
              "version_major": 2,
              "version_minor": 0,
              "model_id": "a3b682a728154cc5b7bff71bda41b3bf"
            }
          },
          "metadata": {}
        },
        {
          "output_type": "stream",
          "name": "stdout",
          "text": [
            "Extracting /content/cifar-100-python.tar.gz to /content\n"
          ]
        }
      ]
    },
    {
      "cell_type": "code",
      "source": [
        "for image, label in train_data:\n",
        "    print(\"Image shape: \",image.shape)\n",
        "    print(\"Image tensor: \", image)\n",
        "    print(\"Label: \", label)\n",
        "    break"
      ],
      "metadata": {
        "colab": {
          "base_uri": "https://localhost:8080/"
        },
        "id": "uSqtnfIc7FRa",
        "outputId": "c3c959ab-51e2-4ecc-f6c0-b2f4f6c534cf"
      },
      "execution_count": 4,
      "outputs": [
        {
          "output_type": "stream",
          "name": "stdout",
          "text": [
            "Image shape:  torch.Size([3, 32, 32])\n",
            "Image tensor:  tensor([[[ 2.4495,  2.4300,  2.4495,  ...,  0.5385,  0.2850, -0.0660],\n",
            "         [ 2.4495,  2.4300,  2.4495,  ...,  0.5190,  0.4800,  0.5385],\n",
            "         [ 2.4495,  2.4300,  2.4495,  ...,  0.9285,  0.9675,  0.8115],\n",
            "         ...,\n",
            "         [ 0.3630,  0.2460,  0.2070,  ..., -1.9381, -1.2556, -1.0411],\n",
            "         [ 0.4605,  0.5970,  0.5580,  ..., -1.5676, -1.1581, -0.9631],\n",
            "         [ 0.6750,  0.8115,  1.0260,  ..., -1.0996, -0.9436, -0.6706]],\n",
            "\n",
            "        [[ 2.5833,  2.5636,  2.5833,  ...,  0.7873,  0.5505,  0.1755],\n",
            "         [ 2.5833,  2.5636,  2.5833,  ...,  0.5110,  0.6886,  0.8268],\n",
            "         [ 2.5833,  2.5833,  2.5833,  ...,  0.7478,  1.2018,  1.2215],\n",
            "         ...,\n",
            "         [ 1.2018,  1.1426,  1.0833,  ..., -2.1139, -1.2258, -0.9297],\n",
            "         [ 1.3794,  1.5373,  1.4781,  ..., -1.7784, -1.2653, -0.9692],\n",
            "         [ 1.5767,  1.7149,  1.8925,  ..., -1.3442, -1.1271, -0.7719]],\n",
            "\n",
            "        [[ 2.7600,  2.7406,  2.7600,  ...,  0.1069,  0.0294, -0.0287],\n",
            "         [ 2.7600,  2.7406,  2.7600,  ...,  0.3199,  0.7072,  1.0364],\n",
            "         [ 2.7600,  2.7406,  2.7600,  ...,  0.7072,  1.4044,  1.5206],\n",
            "         ...,\n",
            "         [-0.6484, -1.0744, -1.0163,  ..., -2.1589, -1.8878, -1.7910],\n",
            "         [-0.9195, -0.9389, -0.8420,  ..., -2.0233, -1.8491, -1.6748],\n",
            "         [-0.5709, -0.3966, -0.0480,  ..., -1.6748, -1.5973, -1.2681]]])\n",
            "Label:  19\n"
          ]
        }
      ]
    },
    {
      "cell_type": "code",
      "source": [
        "train_classes_items = dict()\n",
        "\n",
        "for train_item in train_data:\n",
        "    label = train_data.classes[train_item[1]]\n",
        "    if label not in train_classes_items:\n",
        "        train_classes_items[label] = 1\n",
        "    else:\n",
        "        train_classes_items[label] += 1\n",
        "\n",
        "train_classes_items"
      ],
      "metadata": {
        "colab": {
          "base_uri": "https://localhost:8080/"
        },
        "id": "cbATqHMY7ImS",
        "outputId": "21822bbb-9285-4023-97e3-85efe6718e29"
      },
      "execution_count": 5,
      "outputs": [
        {
          "output_type": "execute_result",
          "data": {
            "text/plain": [
              "{'apple': 500,\n",
              " 'aquarium_fish': 500,\n",
              " 'baby': 500,\n",
              " 'bear': 500,\n",
              " 'beaver': 500,\n",
              " 'bed': 500,\n",
              " 'bee': 500,\n",
              " 'beetle': 500,\n",
              " 'bicycle': 500,\n",
              " 'bottle': 500,\n",
              " 'bowl': 500,\n",
              " 'boy': 500,\n",
              " 'bridge': 500,\n",
              " 'bus': 500,\n",
              " 'butterfly': 500,\n",
              " 'camel': 500,\n",
              " 'can': 500,\n",
              " 'castle': 500,\n",
              " 'caterpillar': 500,\n",
              " 'cattle': 500,\n",
              " 'chair': 500,\n",
              " 'chimpanzee': 500,\n",
              " 'clock': 500,\n",
              " 'cloud': 500,\n",
              " 'cockroach': 500,\n",
              " 'couch': 500,\n",
              " 'crab': 500,\n",
              " 'crocodile': 500,\n",
              " 'cup': 500,\n",
              " 'dinosaur': 500,\n",
              " 'dolphin': 500,\n",
              " 'elephant': 500,\n",
              " 'flatfish': 500,\n",
              " 'forest': 500,\n",
              " 'fox': 500,\n",
              " 'girl': 500,\n",
              " 'hamster': 500,\n",
              " 'house': 500,\n",
              " 'kangaroo': 500,\n",
              " 'keyboard': 500,\n",
              " 'lamp': 500,\n",
              " 'lawn_mower': 500,\n",
              " 'leopard': 500,\n",
              " 'lion': 500,\n",
              " 'lizard': 500,\n",
              " 'lobster': 500,\n",
              " 'man': 500,\n",
              " 'maple_tree': 500,\n",
              " 'motorcycle': 500,\n",
              " 'mountain': 500,\n",
              " 'mouse': 500,\n",
              " 'mushroom': 500,\n",
              " 'oak_tree': 500,\n",
              " 'orange': 500,\n",
              " 'orchid': 500,\n",
              " 'otter': 500,\n",
              " 'palm_tree': 500,\n",
              " 'pear': 500,\n",
              " 'pickup_truck': 500,\n",
              " 'pine_tree': 500,\n",
              " 'plain': 500,\n",
              " 'plate': 500,\n",
              " 'poppy': 500,\n",
              " 'porcupine': 500,\n",
              " 'possum': 500,\n",
              " 'rabbit': 500,\n",
              " 'raccoon': 500,\n",
              " 'ray': 500,\n",
              " 'road': 500,\n",
              " 'rocket': 500,\n",
              " 'rose': 500,\n",
              " 'sea': 500,\n",
              " 'seal': 500,\n",
              " 'shark': 500,\n",
              " 'shrew': 500,\n",
              " 'skunk': 500,\n",
              " 'skyscraper': 500,\n",
              " 'snail': 500,\n",
              " 'snake': 500,\n",
              " 'spider': 500,\n",
              " 'squirrel': 500,\n",
              " 'streetcar': 500,\n",
              " 'sunflower': 500,\n",
              " 'sweet_pepper': 500,\n",
              " 'table': 500,\n",
              " 'tank': 500,\n",
              " 'telephone': 500,\n",
              " 'television': 500,\n",
              " 'tiger': 500,\n",
              " 'tractor': 500,\n",
              " 'train': 500,\n",
              " 'trout': 500,\n",
              " 'tulip': 500,\n",
              " 'turtle': 500,\n",
              " 'wardrobe': 500,\n",
              " 'whale': 500,\n",
              " 'willow_tree': 500,\n",
              " 'wolf': 500,\n",
              " 'woman': 500,\n",
              " 'worm': 500}"
            ]
          },
          "metadata": {},
          "execution_count": 5
        }
      ]
    },
    {
      "cell_type": "code",
      "source": [
        "test_classes_items = dict()\n",
        "for test_item in test_data:\n",
        "    label = test_data.classes[test_item[1]]\n",
        "    if label not in test_classes_items:\n",
        "        test_classes_items[label] = 1\n",
        "    else:\n",
        "        test_classes_items[label] += 1\n",
        "\n",
        "test_classes_items"
      ],
      "metadata": {
        "colab": {
          "base_uri": "https://localhost:8080/"
        },
        "id": "wifYOwf37VCF",
        "outputId": "da92d967-0c49-41d9-fac9-760a0e6ec159"
      },
      "execution_count": 6,
      "outputs": [
        {
          "output_type": "execute_result",
          "data": {
            "text/plain": [
              "{'apple': 100,\n",
              " 'aquarium_fish': 100,\n",
              " 'baby': 100,\n",
              " 'bear': 100,\n",
              " 'beaver': 100,\n",
              " 'bed': 100,\n",
              " 'bee': 100,\n",
              " 'beetle': 100,\n",
              " 'bicycle': 100,\n",
              " 'bottle': 100,\n",
              " 'bowl': 100,\n",
              " 'boy': 100,\n",
              " 'bridge': 100,\n",
              " 'bus': 100,\n",
              " 'butterfly': 100,\n",
              " 'camel': 100,\n",
              " 'can': 100,\n",
              " 'castle': 100,\n",
              " 'caterpillar': 100,\n",
              " 'cattle': 100,\n",
              " 'chair': 100,\n",
              " 'chimpanzee': 100,\n",
              " 'clock': 100,\n",
              " 'cloud': 100,\n",
              " 'cockroach': 100,\n",
              " 'couch': 100,\n",
              " 'crab': 100,\n",
              " 'crocodile': 100,\n",
              " 'cup': 100,\n",
              " 'dinosaur': 100,\n",
              " 'dolphin': 100,\n",
              " 'elephant': 100,\n",
              " 'flatfish': 100,\n",
              " 'forest': 100,\n",
              " 'fox': 100,\n",
              " 'girl': 100,\n",
              " 'hamster': 100,\n",
              " 'house': 100,\n",
              " 'kangaroo': 100,\n",
              " 'keyboard': 100,\n",
              " 'lamp': 100,\n",
              " 'lawn_mower': 100,\n",
              " 'leopard': 100,\n",
              " 'lion': 100,\n",
              " 'lizard': 100,\n",
              " 'lobster': 100,\n",
              " 'man': 100,\n",
              " 'maple_tree': 100,\n",
              " 'motorcycle': 100,\n",
              " 'mountain': 100,\n",
              " 'mouse': 100,\n",
              " 'mushroom': 100,\n",
              " 'oak_tree': 100,\n",
              " 'orange': 100,\n",
              " 'orchid': 100,\n",
              " 'otter': 100,\n",
              " 'palm_tree': 100,\n",
              " 'pear': 100,\n",
              " 'pickup_truck': 100,\n",
              " 'pine_tree': 100,\n",
              " 'plain': 100,\n",
              " 'plate': 100,\n",
              " 'poppy': 100,\n",
              " 'porcupine': 100,\n",
              " 'possum': 100,\n",
              " 'rabbit': 100,\n",
              " 'raccoon': 100,\n",
              " 'ray': 100,\n",
              " 'road': 100,\n",
              " 'rocket': 100,\n",
              " 'rose': 100,\n",
              " 'sea': 100,\n",
              " 'seal': 100,\n",
              " 'shark': 100,\n",
              " 'shrew': 100,\n",
              " 'skunk': 100,\n",
              " 'skyscraper': 100,\n",
              " 'snail': 100,\n",
              " 'snake': 100,\n",
              " 'spider': 100,\n",
              " 'squirrel': 100,\n",
              " 'streetcar': 100,\n",
              " 'sunflower': 100,\n",
              " 'sweet_pepper': 100,\n",
              " 'table': 100,\n",
              " 'tank': 100,\n",
              " 'telephone': 100,\n",
              " 'television': 100,\n",
              " 'tiger': 100,\n",
              " 'tractor': 100,\n",
              " 'train': 100,\n",
              " 'trout': 100,\n",
              " 'tulip': 100,\n",
              " 'turtle': 100,\n",
              " 'wardrobe': 100,\n",
              " 'whale': 100,\n",
              " 'willow_tree': 100,\n",
              " 'wolf': 100,\n",
              " 'woman': 100,\n",
              " 'worm': 100}"
            ]
          },
          "metadata": {},
          "execution_count": 6
        }
      ]
    },
    {
      "cell_type": "code",
      "source": [
        "BATCH_SIZE = 128\n",
        "train_dl = DataLoader(train_data, BATCH_SIZE, num_workers=4, pin_memory=True, shuffle=True)\n",
        "test_dl = DataLoader(test_data, BATCH_SIZE, num_workers=4, pin_memory=True)"
      ],
      "metadata": {
        "colab": {
          "base_uri": "https://localhost:8080/"
        },
        "id": "vldaeAau76tJ",
        "outputId": "09704427-285c-4134-951e-2b479c4a982a"
      },
      "execution_count": 7,
      "outputs": [
        {
          "output_type": "stream",
          "name": "stderr",
          "text": [
            "/usr/local/lib/python3.7/dist-packages/torch/utils/data/dataloader.py:490: UserWarning: This DataLoader will create 4 worker processes in total. Our suggested max number of worker in current system is 2, which is smaller than what this DataLoader is going to create. Please be aware that excessive worker creation might get DataLoader running slow or even freeze, lower the worker number to avoid potential slowness/freeze if necessary.\n",
            "  cpuset_checked))\n"
          ]
        }
      ]
    },
    {
      "cell_type": "code",
      "source": [
        "# for 8 images\n",
        "train_8_samples = DataLoader(train_data, 8, num_workers=4, pin_memory=True, shuffle=True)\n",
        "\n",
        "def imshow(img):\n",
        "    img = img / 2 + 0.5     # unnormalize\n",
        "    npimg = img.numpy()\n",
        "    plt.figure(figsize = (20,20))\n",
        "    plt.imshow(np.transpose(npimg, (1, 2, 0)))\n",
        "    plt.show()\n",
        "\n",
        "dataiter = iter(train_8_samples)\n",
        "images, labels = dataiter.next()\n",
        "\n",
        "# print images\n",
        "imshow(torchvision.utils.make_grid(images))\n",
        "print(''.join(f'{train_data.classes[labels[j]]:20s}' for j in range(8)))"
      ],
      "metadata": {
        "colab": {
          "base_uri": "https://localhost:8080/",
          "height": 267
        },
        "id": "hgRxdf3P78BW",
        "outputId": "285f1f7b-a818-4c7d-c4c1-36363733caad"
      },
      "execution_count": 8,
      "outputs": [
        {
          "output_type": "stream",
          "name": "stderr",
          "text": [
            "/usr/local/lib/python3.7/dist-packages/torch/utils/data/dataloader.py:490: UserWarning: This DataLoader will create 4 worker processes in total. Our suggested max number of worker in current system is 2, which is smaller than what this DataLoader is going to create. Please be aware that excessive worker creation might get DataLoader running slow or even freeze, lower the worker number to avoid potential slowness/freeze if necessary.\n",
            "  cpuset_checked))\n",
            "Clipping input data to the valid range for imshow with RGB data ([0..1] for floats or [0..255] for integers).\n"
          ]
        },
        {
          "output_type": "display_data",
          "data": {
            "text/plain": [
              "<Figure size 1440x1440 with 1 Axes>"
            ],
            "image/png": "[encoded data removed]"
          },
          "metadata": {
            "needs_background": "light"
          }
        },
        {
          "output_type": "stream",
          "name": "stdout",
          "text": [
            "keyboard            lawn_mower          spider              bed                 bed                 kangaroo            television          lizard              \n"
          ]
        }
      ]
    },
    {
      "cell_type": "code",
      "source": [
        "def get_device():\n",
        "    if torch.cuda.is_available():\n",
        "        return torch.device(\"cuda\")\n",
        "    return torch.device(\"cpu\")\n",
        "\n",
        "def to_device(data,device):\n",
        "    if isinstance(data,(list,tuple)):\n",
        "        return [to_device(x,device) for x in data]\n",
        "    return data.to(device,non_blocking=True)\n",
        "\n",
        "\n",
        "class ToDeviceLoader:\n",
        "    def __init__(self,data,device):\n",
        "        self.data = data\n",
        "        self.device = device\n",
        "        \n",
        "    def __iter__(self):\n",
        "        for batch in self.data:\n",
        "            yield to_device(batch,self.device)\n",
        "            \n",
        "    def __len__(self):\n",
        "        return len(self.data)"
      ],
      "metadata": {
        "id": "6RLO0biy8Ait"
      },
      "execution_count": 9,
      "outputs": []
    },
    {
      "cell_type": "code",
      "source": [
        "device = get_device()\n",
        "print(device)\n",
        "\n",
        "train_dl = ToDeviceLoader(train_dl, device)\n",
        "test_dl = ToDeviceLoader(test_dl, device)"
      ],
      "metadata": {
        "colab": {
          "base_uri": "https://localhost:8080/"
        },
        "id": "8ELDrgWN8G9a",
        "outputId": "11554d5c-9cf0-4af7-f371-930b7be0d71e"
      },
      "execution_count": 10,
      "outputs": [
        {
          "output_type": "stream",
          "name": "stdout",
          "text": [
            "cuda\n"
          ]
        }
      ]
    },
    {
      "cell_type": "code",
      "source": [
        "def accuracy(predicted, actual):\n",
        "    _, predictions = torch.max(predicted, dim=1)\n",
        "    return torch.tensor(torch.sum(predictions==actual).item()/len(predictions))"
      ],
      "metadata": {
        "id": "pszEgY7W8P97"
      },
      "execution_count": 11,
      "outputs": []
    },
    {
      "cell_type": "code",
      "source": [
        "class BaseModel(nn.Module):\n",
        "    def training_step(self,batch):\n",
        "        images, labels = batch\n",
        "        out = self(images)\n",
        "        loss = F.cross_entropy(out,labels)\n",
        "        return loss\n",
        "    \n",
        "    def validation_step(self,batch):\n",
        "        images, labels = batch\n",
        "        out = self(images)\n",
        "        loss = F.cross_entropy(out,labels)\n",
        "        acc = accuracy(out,labels)\n",
        "        return {\"val_loss\":loss.detach(),\"val_acc\":acc}\n",
        "    \n",
        "    def validation_epoch_end(self,outputs):\n",
        "        batch_losses = [loss[\"val_loss\"] for loss in outputs]\n",
        "        loss = torch.stack(batch_losses).mean()\n",
        "        batch_accuracy = [accuracy[\"val_acc\"] for accuracy in outputs]\n",
        "        acc = torch.stack(batch_accuracy).mean()\n",
        "        return {\"val_loss\":loss.item(),\"val_acc\":acc.item()}\n",
        "    \n",
        "    def epoch_end(self, epoch, result):\n",
        "        print(\"Epoch [{}], last_lr: {:.5f}, train_loss: {:.4f}, val_loss: {:.4f}, val_acc: {:.4f}\".format(\n",
        "            epoch, result['lrs'][-1], result['train_loss'], result['val_loss'], result['val_acc']))"
      ],
      "metadata": {
        "id": "nQoCY3MK8SdQ"
      },
      "execution_count": 12,
      "outputs": []
    },
    {
      "cell_type": "code",
      "source": [
        "def conv_shortcut(in_channel, out_channel, stride):\n",
        "    layers = [nn.Conv2d(in_channel, out_channel, kernel_size=(1,1), stride=(stride, stride)),\n",
        "             nn.BatchNorm2d(out_channel)]\n",
        "    return nn.Sequential(*layers)\n",
        "\n",
        "def block(in_channel, out_channel, k_size,stride, conv=False):\n",
        "    layers = None\n",
        "    \n",
        "    first_layers = [nn.Conv2d(in_channel,out_channel[0], kernel_size=(1,1),stride=(1,1)),\n",
        "                    nn.BatchNorm2d(out_channel[0]),\n",
        "                    nn.ReLU(inplace=True)]\n",
        "    if conv:\n",
        "        first_layers[0].stride=(stride,stride)\n",
        "    \n",
        "    second_layers = [nn.Conv2d(out_channel[0], out_channel[1], kernel_size=(k_size, k_size), stride=(1,1), padding=1),\n",
        "                    nn.BatchNorm2d(out_channel[1])]\n",
        "\n",
        "    layers = first_layers + second_layers\n",
        "    \n",
        "    return nn.Sequential(*layers)\n",
        "    \n",
        "\n",
        "class ResNet(BaseModel):\n",
        "    \n",
        "    def __init__(self, in_channels, num_classes):\n",
        "        super().__init__()\n",
        "        \n",
        "        self.stg1 = nn.Sequential(\n",
        "                                   nn.Conv2d(in_channels=in_channels, out_channels=64, kernel_size=(3),\n",
        "                                             stride=(1), padding=1),\n",
        "                                   nn.BatchNorm2d(64),\n",
        "                                   nn.ReLU(inplace=True),\n",
        "                                   nn.MaxPool2d(kernel_size=3, stride=2))\n",
        "        \n",
        "        ##stage 2\n",
        "        self.convShortcut2 = conv_shortcut(64,256,1)\n",
        "        \n",
        "        self.conv2 = block(64,[64,256],3,1,conv=True)\n",
        "        self.ident2 = block(256,[64,256],3,1)\n",
        "\n",
        "        \n",
        "        ##stage 3\n",
        "        self.convShortcut3 = conv_shortcut(256,512,2)\n",
        "        \n",
        "        self.conv3 = block(256,[128,512],3,2,conv=True)\n",
        "        self.ident3 = block(512,[128,512],3,2)\n",
        "\n",
        "        \n",
        "        ##stage 4\n",
        "        self.convShortcut4 = conv_shortcut(512,1024,2)\n",
        "        \n",
        "        self.conv4 = block(512,[256,1024],3,2,conv=True)\n",
        "        self.ident4 = block(1024,[256,1024],3,2)\n",
        "        \n",
        "        \n",
        "        ##Classify\n",
        "        self.classifier = nn.Sequential(\n",
        "                                       nn.AvgPool2d(kernel_size=(4)),\n",
        "                                       nn.Flatten(),\n",
        "                                       nn.Linear(1024, num_classes))\n",
        "        \n",
        "    def forward(self,inputs):\n",
        "        out = self.stg1(inputs)\n",
        "        \n",
        "        #stage 2\n",
        "        out = F.relu(self.conv2(out) + self.convShortcut2(out))\n",
        "        out = F.relu(self.ident2(out) + out)\n",
        "        out = F.relu(self.ident2(out) + out)\n",
        "        out = F.relu(self.ident2(out) + out)\n",
        "        \n",
        "        #stage3\n",
        "        out = F.relu(self.conv3(out) + (self.convShortcut3(out)))\n",
        "        out = F.relu(self.ident3(out) + out)\n",
        "        out = F.relu(self.ident3(out) + out)\n",
        "        out = F.relu(self.ident3(out) + out)\n",
        "        out = F.relu(self.ident3(out) + out)\n",
        "        \n",
        "        #stage4             \n",
        "        out = F.relu(self.conv4(out) + (self.convShortcut4(out)))\n",
        "        out = F.relu(self.ident4(out) + out)\n",
        "        out = F.relu(self.ident4(out) + out)\n",
        "        out = F.relu(self.ident4(out) + out)\n",
        "        out = F.relu(self.ident4(out) + out)\n",
        "        out = F.relu(self.ident4(out) + out)\n",
        "        out = F.relu(self.ident4(out) + out)\n",
        "        \n",
        "        #Classify\n",
        "        out = self.classifier(out)#100x1024\n",
        "        \n",
        "        return out\n",
        "        "
      ],
      "metadata": {
        "id": "vlBZRuOg8Vd3"
      },
      "execution_count": 13,
      "outputs": []
    },
    {
      "cell_type": "code",
      "source": [
        "model = ResNet(3,100)"
      ],
      "metadata": {
        "id": "KhmlLJR081UH"
      },
      "execution_count": 14,
      "outputs": []
    },
    {
      "cell_type": "code",
      "source": [
        "model = to_device(model, device)"
      ],
      "metadata": {
        "id": "mFdd5P-784PW"
      },
      "execution_count": 15,
      "outputs": []
    },
    {
      "cell_type": "code",
      "source": [
        "@torch.no_grad()\n",
        "def evaluate(model,test_dl):\n",
        "    model.eval()\n",
        "    outputs = [model.validation_step(batch) for batch in test_dl]\n",
        "    return model.validation_epoch_end(outputs)"
      ],
      "metadata": {
        "id": "JqgJtFXh88NF"
      },
      "execution_count": 16,
      "outputs": []
    },
    {
      "cell_type": "code",
      "source": [
        "def get_lr(optimizer):\n",
        "    for param_group in optimizer.param_groups:\n",
        "        return param_group['lr']\n",
        "\n",
        "def fit (epochs, train_dl, test_dl, model, optimizer, max_lr, weight_decay, scheduler, grad_clip=None):\n",
        "    torch.cuda.empty_cache()\n",
        "    \n",
        "    history = []\n",
        "    \n",
        "    optimizer = optimizer(model.parameters(), max_lr, weight_decay = weight_decay)\n",
        "    \n",
        "    scheduler = scheduler(optimizer, max_lr, epochs=epochs, steps_per_epoch=len(train_dl))\n",
        "    \n",
        "    for epoch in range(epochs):\n",
        "        model.train()\n",
        "        \n",
        "        train_loss = []\n",
        "        \n",
        "        lrs = []\n",
        "        \n",
        "        for batch in train_dl:\n",
        "            loss = model.training_step(batch)\n",
        "            \n",
        "            train_loss.append(loss)\n",
        "            \n",
        "            loss.backward()\n",
        "            \n",
        "            if grad_clip:\n",
        "                nn.utils.clip_grad_value_(model.parameters(), grad_clip)\n",
        "            \n",
        "            optimizer.step()\n",
        "            optimizer.zero_grad()\n",
        "            \n",
        "            scheduler.step()\n",
        "            lrs.append(get_lr(optimizer))\n",
        "        result = evaluate(model, test_dl)\n",
        "        result[\"train_loss\"] = torch.stack(train_loss).mean().item()\n",
        "        result[\"lrs\"] = lrs\n",
        "        \n",
        "        model.epoch_end(epoch,result)\n",
        "        history.append(result)\n",
        "        \n",
        "    return history"
      ],
      "metadata": {
        "id": "-2Nyg7kP8_7B"
      },
      "execution_count": 17,
      "outputs": []
    },
    {
      "cell_type": "code",
      "source": [
        "epochs = 100\n",
        "optimizer = torch.optim.Adam\n",
        "max_lr = 1e-3\n",
        "grad_clip = 0.1\n",
        "weight_decay = 1e-5\n",
        "scheduler = torch.optim.lr_scheduler.OneCycleLR"
      ],
      "metadata": {
        "id": "Q9Bs3Oe09BUK"
      },
      "execution_count": 18,
      "outputs": []
    },
    {
      "cell_type": "code",
      "source": [
        "%%time\n",
        "history = fit(epochs=epochs, train_dl=train_dl, test_dl=test_dl, model=model, \n",
        "              optimizer=optimizer, max_lr=max_lr, grad_clip=grad_clip,\n",
        "              weight_decay=weight_decay, scheduler=torch.optim.lr_scheduler.OneCycleLR)"
      ],
      "metadata": {
        "colab": {
          "base_uri": "https://localhost:8080/"
        },
        "id": "xrqdJ4S29D8Y",
        "outputId": "22bcb783-3e0f-4b65-f8e4-3525e3b72f54"
      },
      "execution_count": 19,
      "outputs": [
        {
          "metadata": {
            "tags": null
          },
          "name": "stderr",
          "output_type": "stream",
          "text": [
            "/usr/local/lib/python3.7/dist-packages/torch/utils/data/dataloader.py:490: UserWarning: This DataLoader will create 4 worker processes in total. Our suggested max number of worker in current system is 2, which is smaller than what this DataLoader is going to create. Please be aware that excessive worker creation might get DataLoader running slow or even freeze, lower the worker number to avoid potential slowness/freeze if necessary.\n",
            "  cpuset_checked))\n"
          ]
        },
        {
          "output_type": "stream",
          "name": "stdout",
          "text": [
            "Epoch [0], last_lr: 0.00004, train_loss: 3.8882, val_loss: 4.0885, val_acc: 0.0690\n",
            "Epoch [1], last_lr: 0.00005, train_loss: 3.2250, val_loss: 3.9202, val_acc: 0.1080\n",
            "Epoch [2], last_lr: 0.00006, train_loss: 2.8995, val_loss: 3.7595, val_acc: 0.1396\n",
            "Epoch [3], last_lr: 0.00008, train_loss: 2.6441, val_loss: 3.3755, val_acc: 0.1913\n",
            "Epoch [4], last_lr: 0.00010, train_loss: 2.4513, val_loss: 3.3395, val_acc: 0.2099\n",
            "Epoch [5], last_lr: 0.00013, train_loss: 2.3065, val_loss: 3.0687, val_acc: 0.2306\n",
            "Epoch [6], last_lr: 0.00016, train_loss: 2.1825, val_loss: 2.9561, val_acc: 0.2580\n",
            "Epoch [7], last_lr: 0.00020, train_loss: 2.0817, val_loss: 2.9417, val_acc: 0.2703\n",
            "Epoch [8], last_lr: 0.00024, train_loss: 1.9940, val_loss: 2.7076, val_acc: 0.3083\n",
            "Epoch [9], last_lr: 0.00028, train_loss: 1.9250, val_loss: 2.4491, val_acc: 0.3585\n",
            "Epoch [10], last_lr: 0.00032, train_loss: 1.8515, val_loss: 2.3955, val_acc: 0.3723\n",
            "Epoch [11], last_lr: 0.00037, train_loss: 1.7879, val_loss: 2.3129, val_acc: 0.3904\n",
            "Epoch [12], last_lr: 0.00042, train_loss: 1.7444, val_loss: 2.2757, val_acc: 0.3949\n",
            "Epoch [13], last_lr: 0.00047, train_loss: 1.7072, val_loss: 2.1697, val_acc: 0.4228\n",
            "Epoch [14], last_lr: 0.00052, train_loss: 1.6455, val_loss: 2.1539, val_acc: 0.4296\n",
            "Epoch [15], last_lr: 0.00057, train_loss: 1.5871, val_loss: 2.2439, val_acc: 0.4118\n",
            "Epoch [16], last_lr: 0.00062, train_loss: 1.5353, val_loss: 2.1178, val_acc: 0.4455\n",
            "Epoch [17], last_lr: 0.00067, train_loss: 1.4943, val_loss: 2.1941, val_acc: 0.4188\n",
            "Epoch [18], last_lr: 0.00072, train_loss: 1.4464, val_loss: 1.9277, val_acc: 0.4820\n",
            "Epoch [19], last_lr: 0.00076, train_loss: 1.3821, val_loss: 1.9396, val_acc: 0.4818\n",
            "Epoch [20], last_lr: 0.00080, train_loss: 1.3284, val_loss: 1.9943, val_acc: 0.4602\n",
            "Epoch [21], last_lr: 0.00084, train_loss: 1.2892, val_loss: 1.7963, val_acc: 0.5160\n",
            "Epoch [22], last_lr: 0.00088, train_loss: 1.2209, val_loss: 1.7577, val_acc: 0.5205\n",
            "Epoch [23], last_lr: 0.00091, train_loss: 1.1694, val_loss: 1.7017, val_acc: 0.5378\n",
            "Epoch [24], last_lr: 0.00094, train_loss: 1.1296, val_loss: 1.6511, val_acc: 0.5481\n",
            "Epoch [25], last_lr: 0.00096, train_loss: 1.0726, val_loss: 1.5346, val_acc: 0.5838\n",
            "Epoch [26], last_lr: 0.00098, train_loss: 1.0190, val_loss: 1.4725, val_acc: 0.5955\n",
            "Epoch [27], last_lr: 0.00099, train_loss: 0.9663, val_loss: 1.5599, val_acc: 0.5863\n",
            "Epoch [28], last_lr: 0.00100, train_loss: 0.9239, val_loss: 1.5535, val_acc: 0.5907\n",
            "Epoch [29], last_lr: 0.00100, train_loss: 0.8858, val_loss: 1.4169, val_acc: 0.6150\n",
            "Epoch [30], last_lr: 0.00100, train_loss: 0.8352, val_loss: 1.4903, val_acc: 0.6070\n",
            "Epoch [31], last_lr: 0.00100, train_loss: 0.7859, val_loss: 1.5265, val_acc: 0.6044\n",
            "Epoch [32], last_lr: 0.00100, train_loss: 0.7367, val_loss: 1.4591, val_acc: 0.6180\n",
            "Epoch [33], last_lr: 0.00099, train_loss: 0.7008, val_loss: 1.4627, val_acc: 0.6147\n",
            "Epoch [34], last_lr: 0.00099, train_loss: 0.6601, val_loss: 1.4527, val_acc: 0.6208\n",
            "Epoch [35], last_lr: 0.00098, train_loss: 0.6246, val_loss: 1.5375, val_acc: 0.6127\n",
            "Epoch [36], last_lr: 0.00098, train_loss: 0.5914, val_loss: 1.5698, val_acc: 0.6129\n",
            "Epoch [37], last_lr: 0.00097, train_loss: 0.5552, val_loss: 1.4595, val_acc: 0.6394\n",
            "Epoch [38], last_lr: 0.00096, train_loss: 0.5143, val_loss: 1.5813, val_acc: 0.6260\n",
            "Epoch [39], last_lr: 0.00095, train_loss: 0.4885, val_loss: 1.4976, val_acc: 0.6413\n",
            "Epoch [40], last_lr: 0.00094, train_loss: 0.4571, val_loss: 1.5395, val_acc: 0.6370\n",
            "Epoch [41], last_lr: 0.00093, train_loss: 0.4336, val_loss: 1.5556, val_acc: 0.6413\n",
            "Epoch [42], last_lr: 0.00092, train_loss: 0.4013, val_loss: 1.5690, val_acc: 0.6447\n",
            "Epoch [43], last_lr: 0.00090, train_loss: 0.3827, val_loss: 1.5866, val_acc: 0.6429\n",
            "Epoch [44], last_lr: 0.00089, train_loss: 0.3527, val_loss: 1.5526, val_acc: 0.6607\n",
            "Epoch [45], last_lr: 0.00088, train_loss: 0.3380, val_loss: 1.6479, val_acc: 0.6440\n",
            "Epoch [46], last_lr: 0.00086, train_loss: 0.3148, val_loss: 1.5832, val_acc: 0.6582\n",
            "Epoch [47], last_lr: 0.00085, train_loss: 0.2994, val_loss: 1.6482, val_acc: 0.6448\n",
            "Epoch [48], last_lr: 0.00083, train_loss: 0.2862, val_loss: 1.6733, val_acc: 0.6553\n",
            "Epoch [49], last_lr: 0.00081, train_loss: 0.2620, val_loss: 1.6263, val_acc: 0.6572\n",
            "Epoch [50], last_lr: 0.00079, train_loss: 0.2529, val_loss: 1.7162, val_acc: 0.6534\n",
            "Epoch [51], last_lr: 0.00078, train_loss: 0.2343, val_loss: 1.7271, val_acc: 0.6509\n",
            "Epoch [52], last_lr: 0.00076, train_loss: 0.2117, val_loss: 1.7290, val_acc: 0.6570\n",
            "Epoch [53], last_lr: 0.00074, train_loss: 0.1954, val_loss: 1.7848, val_acc: 0.6500\n",
            "Epoch [54], last_lr: 0.00072, train_loss: 0.1914, val_loss: 1.8000, val_acc: 0.6594\n",
            "Epoch [55], last_lr: 0.00070, train_loss: 0.1761, val_loss: 1.7482, val_acc: 0.6652\n",
            "Epoch [56], last_lr: 0.00068, train_loss: 0.1672, val_loss: 1.7331, val_acc: 0.6641\n",
            "Epoch [57], last_lr: 0.00065, train_loss: 0.1553, val_loss: 1.7491, val_acc: 0.6670\n",
            "Epoch [58], last_lr: 0.00063, train_loss: 0.1478, val_loss: 1.8307, val_acc: 0.6651\n",
            "Epoch [59], last_lr: 0.00061, train_loss: 0.1376, val_loss: 1.8046, val_acc: 0.6652\n",
            "Epoch [60], last_lr: 0.00059, train_loss: 0.1255, val_loss: 1.8092, val_acc: 0.6663\n",
            "Epoch [61], last_lr: 0.00057, train_loss: 0.1223, val_loss: 1.7842, val_acc: 0.6652\n",
            "Epoch [62], last_lr: 0.00054, train_loss: 0.1036, val_loss: 1.8111, val_acc: 0.6721\n",
            "Epoch [63], last_lr: 0.00052, train_loss: 0.1035, val_loss: 1.8641, val_acc: 0.6658\n",
            "Epoch [64], last_lr: 0.00050, train_loss: 0.0965, val_loss: 1.9175, val_acc: 0.6716\n",
            "Epoch [65], last_lr: 0.00048, train_loss: 0.0808, val_loss: 1.8543, val_acc: 0.6819\n",
            "Epoch [66], last_lr: 0.00046, train_loss: 0.0824, val_loss: 1.8318, val_acc: 0.6842\n",
            "Epoch [67], last_lr: 0.00043, train_loss: 0.0755, val_loss: 1.9097, val_acc: 0.6823\n",
            "Epoch [68], last_lr: 0.00041, train_loss: 0.0696, val_loss: 1.8795, val_acc: 0.6779\n",
            "Epoch [69], last_lr: 0.00039, train_loss: 0.0617, val_loss: 1.9162, val_acc: 0.6810\n",
            "Epoch [70], last_lr: 0.00037, train_loss: 0.0523, val_loss: 1.9578, val_acc: 0.6810\n",
            "Epoch [71], last_lr: 0.00035, train_loss: 0.0493, val_loss: 1.9367, val_acc: 0.6854\n",
            "Epoch [72], last_lr: 0.00032, train_loss: 0.0470, val_loss: 1.9141, val_acc: 0.6884\n",
            "Epoch [73], last_lr: 0.00030, train_loss: 0.0411, val_loss: 1.9922, val_acc: 0.6880\n",
            "Epoch [74], last_lr: 0.00028, train_loss: 0.0390, val_loss: 1.9445, val_acc: 0.6919\n",
            "Epoch [75], last_lr: 0.00026, train_loss: 0.0328, val_loss: 1.9492, val_acc: 0.6863\n",
            "Epoch [76], last_lr: 0.00024, train_loss: 0.0304, val_loss: 2.0112, val_acc: 0.6878\n",
            "Epoch [77], last_lr: 0.00022, train_loss: 0.0302, val_loss: 1.9543, val_acc: 0.6906\n",
            "Epoch [78], last_lr: 0.00021, train_loss: 0.0230, val_loss: 1.9940, val_acc: 0.6948\n",
            "Epoch [79], last_lr: 0.00019, train_loss: 0.0216, val_loss: 1.9874, val_acc: 0.6966\n",
            "Epoch [80], last_lr: 0.00017, train_loss: 0.0213, val_loss: 2.0528, val_acc: 0.6911\n",
            "Epoch [81], last_lr: 0.00015, train_loss: 0.0170, val_loss: 2.0066, val_acc: 0.6993\n",
            "Epoch [82], last_lr: 0.00014, train_loss: 0.0144, val_loss: 2.0348, val_acc: 0.6924\n",
            "Epoch [83], last_lr: 0.00012, train_loss: 0.0134, val_loss: 1.9947, val_acc: 0.6998\n",
            "Epoch [84], last_lr: 0.00011, train_loss: 0.0116, val_loss: 2.0198, val_acc: 0.7024\n",
            "Epoch [85], last_lr: 0.00010, train_loss: 0.0112, val_loss: 1.9909, val_acc: 0.7005\n",
            "Epoch [86], last_lr: 0.00008, train_loss: 0.0096, val_loss: 2.0268, val_acc: 0.6955\n",
            "Epoch [87], last_lr: 0.00007, train_loss: 0.0082, val_loss: 2.0367, val_acc: 0.7011\n",
            "Epoch [88], last_lr: 0.00006, train_loss: 0.0083, val_loss: 1.9777, val_acc: 0.7046\n",
            "Epoch [89], last_lr: 0.00005, train_loss: 0.0083, val_loss: 2.0345, val_acc: 0.6995\n",
            "Epoch [90], last_lr: 0.00004, train_loss: 0.0066, val_loss: 2.0171, val_acc: 0.7039\n",
            "Epoch [91], last_lr: 0.00003, train_loss: 0.0061, val_loss: 2.0055, val_acc: 0.7042\n",
            "Epoch [92], last_lr: 0.00002, train_loss: 0.0054, val_loss: 1.9907, val_acc: 0.7072\n",
            "Epoch [93], last_lr: 0.00002, train_loss: 0.0053, val_loss: 2.0196, val_acc: 0.7062\n",
            "Epoch [94], last_lr: 0.00001, train_loss: 0.0051, val_loss: 2.0128, val_acc: 0.7047\n",
            "Epoch [95], last_lr: 0.00001, train_loss: 0.0045, val_loss: 2.0095, val_acc: 0.7039\n",
            "Epoch [96], last_lr: 0.00000, train_loss: 0.0042, val_loss: 2.0112, val_acc: 0.7067\n",
            "Epoch [97], last_lr: 0.00000, train_loss: 0.0043, val_loss: 2.0311, val_acc: 0.7017\n",
            "Epoch [98], last_lr: 0.00000, train_loss: 0.0047, val_loss: 2.0134, val_acc: 0.7066\n",
            "Epoch [99], last_lr: 0.00000, train_loss: 0.0044, val_loss: 2.0033, val_acc: 0.7071\n",
            "CPU times: user 45min 55s, sys: 2min 44s, total: 48min 40s\n",
            "Wall time: 1h 13min 50s\n"
          ]
        }
      ]
    },
    {
      "cell_type": "code",
      "source": [
        "def plot_acc(history):\n",
        "    plt.plot([x[\"val_acc\"] for x in history],\"-x\")\n",
        "    plt.xlabel(\"Epoch\")\n",
        "    plt.ylabel(\"Accuracy\")\n",
        "\n",
        "def plot_loss(history):\n",
        "    plt.plot([x.get(\"train_loss\") for x in history], \"-bx\")\n",
        "    plt.plot([x[\"val_loss\"] for x in history],\"-rx\")\n",
        "    plt.xlabel(\"Epoch\")\n",
        "    plt.ylabel(\"Loss\")\n",
        "    plt.legend([\"train loss\",\"val loss\"])\n",
        "    \n",
        "def plot_lrs(history):\n",
        "    plt.plot(np.concatenate([x.get(\"lrs\",[]) for x in history]))\n",
        "    plt.xlabel(\"Batch number\")\n",
        "    plt.ylabel(\"Learning rate\")"
      ],
      "metadata": {
        "id": "cQ1LdJqh_J0G"
      },
      "execution_count": 20,
      "outputs": []
    },
    {
      "cell_type": "code",
      "source": [
        "plot_loss(history)"
      ],
      "metadata": {
        "colab": {
          "base_uri": "https://localhost:8080/",
          "height": 279
        },
        "id": "XNs2WnTe_MXY",
        "outputId": "9f08dbeb-8c3a-4533-9f2b-690036d703db"
      },
      "execution_count": 21,
      "outputs": [
        {
          "output_type": "display_data",
          "data": {
            "text/plain": [
              "<Figure size 432x288 with 1 Axes>"
            ],
            "image/png": "[encoded data removed]"
          },
          "metadata": {
            "needs_background": "light"
          }
        }
      ]
    },
    {
      "cell_type": "code",
      "source": [
        "def predict_image(img, model):\n",
        "    xb = to_device(img.unsqueeze(0), device)\n",
        "    yb = model(xb)\n",
        "    _, preds  = torch.max(yb, dim=1)\n",
        "    return test_data.classes[preds[0].item()]"
      ],
      "metadata": {
        "id": "EWi8LO9K_Us_"
      },
      "execution_count": 22,
      "outputs": []
    },
    {
      "cell_type": "code",
      "source": [
        "img, label = test_data[0]\n",
        "plt.imshow(img.permute(1, 2, 0))\n",
        "print('Label:', test_data.classes[label], ', Predicted:', predict_image(img, model))"
      ],
      "metadata": {
        "colab": {
          "base_uri": "https://localhost:8080/",
          "height": 302
        },
        "id": "XG7HMpcD_Y-p",
        "outputId": "4a37bdba-f7f6-4fa4-a869-7c53c277d3f6"
      },
      "execution_count": 23,
      "outputs": [
        {
          "output_type": "stream",
          "name": "stderr",
          "text": [
            "Clipping input data to the valid range for imshow with RGB data ([0..1] for floats or [0..255] for integers).\n"
          ]
        },
        {
          "output_type": "stream",
          "name": "stdout",
          "text": [
            "Label: mountain , Predicted: road\n"
          ]
        },
        {
          "output_type": "display_data",
          "data": {
            "text/plain": [
              "<Figure size 432x288 with 1 Axes>"
            ],
            "image/png": "[encoded data removed]"
          },
          "metadata": {
            "needs_background": "light"
          }
        }
      ]
    },
    {
      "cell_type": "code",
      "source": [
        "img, label = test_data[1002]\n",
        "plt.imshow(img.permute(1, 2, 0))\n",
        "print('Label:', test_data.classes[label], ', Predicted:', predict_image(img, model))"
      ],
      "metadata": {
        "colab": {
          "base_uri": "https://localhost:8080/",
          "height": 302
        },
        "id": "AkNd8rTsQIks",
        "outputId": "eb7c467c-5e9b-4280-b03c-a9c1834485a8"
      },
      "execution_count": 24,
      "outputs": [
        {
          "output_type": "stream",
          "name": "stderr",
          "text": [
            "Clipping input data to the valid range for imshow with RGB data ([0..1] for floats or [0..255] for integers).\n"
          ]
        },
        {
          "output_type": "stream",
          "name": "stdout",
          "text": [
            "Label: wardrobe , Predicted: wardrobe\n"
          ]
        },
        {
          "output_type": "display_data",
          "data": {
            "text/plain": [
              "<Figure size 432x288 with 1 Axes>"
            ],
            "image/png": "[encoded data removed]"
          },
          "metadata": {
            "needs_background": "light"
          }
        }
      ]
    },
    {
      "cell_type": "code",
      "source": [
        "img, label = test_data[100]\n",
        "plt.imshow(img.permute(1, 2, 0))\n",
        "print('Label:', test_data.classes[label], ', Predicted:', predict_image(img, model))"
      ],
      "metadata": {
        "colab": {
          "base_uri": "https://localhost:8080/",
          "height": 302
        },
        "id": "-eKEsnDiQMIf",
        "outputId": "fb83f8a5-44e7-4c0f-8e76-3a64b56ea26e"
      },
      "execution_count": 25,
      "outputs": [
        {
          "output_type": "stream",
          "name": "stderr",
          "text": [
            "Clipping input data to the valid range for imshow with RGB data ([0..1] for floats or [0..255] for integers).\n"
          ]
        },
        {
          "output_type": "stream",
          "name": "stdout",
          "text": [
            "Label: crab , Predicted: crab\n"
          ]
        },
        {
          "output_type": "display_data",
          "data": {
            "text/plain": [
              "<Figure size 432x288 with 1 Axes>"
            ],
            "image/png": "[encoded data removed]"
          },
          "metadata": {
            "needs_background": "light"
          }
        }
      ]
    }
  ]
}